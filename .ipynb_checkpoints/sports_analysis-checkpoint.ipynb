{
 "cells": [
  {
   "cell_type": "code",
   "execution_count": 12,
   "metadata": {},
   "outputs": [],
   "source": [
    "import pandas as pd\n",
    "import numpy as np\n",
    "import xgboost as xg\n",
    "import sklearn\n",
    "import matplotlib.pyplot as plt\n",
    "from sklearn import svm"
   ]
  },
  {
   "cell_type": "code",
   "execution_count": 40,
   "metadata": {},
   "outputs": [
    {
     "name": "stdout",
     "output_type": "stream",
     "text": [
      "         game_line  home_ft_pct_L10  home_prev_3  home_prev_5_home  \\\n",
      "count  1312.000000      1312.000000  1312.000000       1312.000000   \n",
      "mean     -2.727134         0.762091     1.880335          3.068598   \n",
      "std       6.944331         0.053638     1.086009          1.699784   \n",
      "min     -21.500000         0.600877     0.000000          0.000000   \n",
      "25%      -7.500000         0.729811     1.000000          2.000000   \n",
      "50%      -3.500000         0.764045     2.000000          3.000000   \n",
      "75%       2.500000         0.796816     3.000000          5.000000   \n",
      "max      17.000000         1.000000     3.000000          5.000000   \n",
      "\n",
      "       home_prev_10  home_wins_at_home    home_wins  home_last_ten_wins  \\\n",
      "count   1312.000000        1312.000000  1312.000000         1312.000000   \n",
      "mean       5.774390          13.197409    22.690549            4.775152   \n",
      "std        3.240573           9.941088    17.265468            2.262464   \n",
      "min        0.000000           0.000000     0.000000            0.000000   \n",
      "25%        3.000000           5.000000     9.000000            3.000000   \n",
      "50%        6.000000          11.000000    19.000000            5.000000   \n",
      "75%        9.000000          19.000000    33.000000            6.000000   \n",
      "max       10.000000          50.000000    88.000000           10.000000   \n",
      "\n",
      "       home_last_five_wins  home_last_three_wins  ...  away_points_per_game  \\\n",
      "count          1312.000000           1312.000000  ...           1312.000000   \n",
      "mean              2.440549              1.473323  ...            100.736875   \n",
      "std               1.292873              0.933758  ...             11.439558   \n",
      "min               0.000000              0.000000  ...              0.000000   \n",
      "25%               2.000000              1.000000  ...             98.954823   \n",
      "50%               2.000000              1.000000  ...            101.823529   \n",
      "75%               3.000000              2.000000  ...            103.727314   \n",
      "max               5.000000              3.000000  ...            122.666667   \n",
      "\n",
      "       away_points_allowed_per_game  away_ft_pct_on_season  \\\n",
      "count                   1312.000000            1312.000000   \n",
      "mean                     100.438795               0.750458   \n",
      "std                       11.281049               0.087850   \n",
      "min                        0.000000               0.000000   \n",
      "25%                       98.830128               0.737718   \n",
      "50%                      101.409045               0.762947   \n",
      "75%                      104.333333               0.786661   \n",
      "max                      120.000000               0.954545   \n",
      "\n",
      "       away_fg_pct_on_season  away_rebounds_on_season  \\\n",
      "count            1312.000000              1312.000000   \n",
      "mean                0.442867              1913.810976   \n",
      "std                 0.049741              1140.135190   \n",
      "min                 0.000000                 0.000000   \n",
      "25%                 0.436167               943.750000   \n",
      "50%                 0.446356              1901.000000   \n",
      "75%                 0.459080              2839.250000   \n",
      "max                 0.500000              4785.000000   \n",
      "\n",
      "       away_personal_fouls_on_season  away_h2h_wins  away_last_five_ATS  \\\n",
      "count                    1312.000000    1312.000000         1312.000000   \n",
      "mean                      887.286585       0.741616            2.438262   \n",
      "std                       523.706068       1.092031            1.160959   \n",
      "min                         0.000000       0.000000            0.000000   \n",
      "25%                       449.250000       0.000000            2.000000   \n",
      "50%                       871.000000       0.000000            2.000000   \n",
      "75%                      1335.750000       1.000000            3.000000   \n",
      "max                      2180.000000       7.000000            5.000000   \n",
      "\n",
      "       away_last_three_ATS  away_last_ten_ATS  \n",
      "count           1312.00000        1312.000000  \n",
      "mean               1.48628           4.723323  \n",
      "std                0.87675           1.858570  \n",
      "min                0.00000           0.000000  \n",
      "25%                1.00000           4.000000  \n",
      "50%                1.00000           5.000000  \n",
      "75%                2.00000           6.000000  \n",
      "max                3.00000          10.000000  \n",
      "\n",
      "[8 rows x 35 columns]\n",
      "(1312,)\n"
     ]
    }
   ],
   "source": [
    "seed = 1456\n",
    "\n",
    "# Read in the data\n",
    "data = pd.read_csv(\"keegans_real_nba_data.csv\")\n",
    "x = data[['game_line', 'home_ft_pct_L10', 'home_prev_3', 'home_prev_5_home', \n",
    "          'home_prev_10', 'home_wins_at_home', 'home_wins', 'home_last_ten_wins', \n",
    "          'home_last_five_wins', 'home_last_three_wins', 'home_points_per_game', \n",
    "          'home_points_allowed_per_game', 'home_ft_pct_on_season', 'home_fg_pct_on_season', \n",
    "          'home_rebounds_on_season', 'home_personal_fouls_on_season', 'home_h2h_wins', 'home_last_ten_ATS', \n",
    "       'home_last_five_ATS', 'home_last_three_ATS', 'away_wins', 'away_wins_at_away', 'away_last_ten_wins', \n",
    "          'away_last_five_wins', 'away_last_three_wins', \n",
    "        'away_points_per_game', 'away_points_allowed_per_game', 'away_ft_pct_on_season', \n",
    "          'away_fg_pct_on_season', 'away_rebounds_on_season', 'away_personal_fouls_on_season', \n",
    "          'away_h2h_wins', 'away_last_five_ATS', 'away_last_three_ATS', 'away_last_ten_ATS']]\n",
    "y = data[['spread_covered']]\n",
    "y = np.ravel(y)\n",
    "print(x.describe(include = 'all'))\n",
    "#print(y.describe())\n",
    "x.isna().sum()\n",
    "print(y.shape)"
   ]
  },
  {
   "cell_type": "markdown",
   "metadata": {},
   "source": [
    "Try Fitting an SVM Model"
   ]
  },
  {
   "cell_type": "code",
   "execution_count": 50,
   "metadata": {},
   "outputs": [
    {
     "name": "stdout",
     "output_type": "stream",
     "text": [
      "              precision    recall  f1-score   support\n",
      "\n",
      "           0       0.00      0.00      0.00       244\n",
      "           1       0.52      1.00      0.69       268\n",
      "\n",
      "    accuracy                           0.52       512\n",
      "   macro avg       0.26      0.50      0.34       512\n",
      "weighted avg       0.27      0.52      0.36       512\n",
      "\n"
     ]
    },
    {
     "name": "stderr",
     "output_type": "stream",
     "text": [
      "//anaconda3/lib/python3.7/site-packages/sklearn/metrics/classification.py:1437: UndefinedMetricWarning: Precision and F-score are ill-defined and being set to 0.0 in labels with no predicted samples.\n",
      "  'precision', 'predicted', average, warn_for)\n"
     ]
    }
   ],
   "source": [
    "#X_train, X_test, y_train, y_test = sklearn.model_selection.train_test_split(x, y, random_state=42, stratify=y)\n",
    "X_train = x[200:800]\n",
    "X_test = x[800:1314]\n",
    "y_train = y[200:800]\n",
    "y_test = y[800:1314]\n",
    "\n",
    "svm_model = svm.SVC(kernel='rbf', C=1, gamma = 1)\n",
    "svm_model.fit(X_train, y_train)  \n",
    "y_pred = svm_model.predict(X_test)  \n",
    "\n",
    "#clf = svm.SVC(gamma='scale', decision_function_shape='ovo')\n",
    "#lin_clf = svm.LinearSVC()\n",
    "#scores = sklearn.model_selection.cross_val_score(clf, train_x, train_y, cv=5)\n",
    "#scores   \n",
    "\n",
    "#lin_clf = svm.LinearSVC()\n",
    "#scores2 = sklearn.model_selection.cross_val_score(lin_clf, train_x, train_y, cv=5)\n",
    "\n",
    "print(sklearn.metrics.classification_report(y_test, y_pred))"
   ]
  },
  {
   "cell_type": "markdown",
   "metadata": {},
   "source": [
    "XG Boost Implementation"
   ]
  },
  {
   "cell_type": "code",
   "execution_count": 48,
   "metadata": {},
   "outputs": [
    {
     "name": "stdout",
     "output_type": "stream",
     "text": [
      "              precision    recall  f1-score   support\n",
      "\n",
      "           0       0.48      0.34      0.40       244\n",
      "           1       0.53      0.66      0.59       268\n",
      "\n",
      "    accuracy                           0.51       512\n",
      "   macro avg       0.50      0.50      0.49       512\n",
      "weighted avg       0.50      0.51      0.50       512\n",
      "\n"
     ]
    }
   ],
   "source": [
    "X_train = x[200:800]\n",
    "X_test = x[800:1314]\n",
    "y_train = y[200:800]\n",
    "y_test = y[800:1314]\n",
    "\n",
    "dtrain = xg.DMatrix(data=X_train, label=y_train)\n",
    "dtest = xg.DMatrix(data=X_test)\n",
    "\n",
    "params = {\n",
    "    'max_depth': 6,\n",
    "    'objective': 'multi:softmax',  # error evaluation for multiclass training\n",
    "    'num_class': 3,\n",
    "}\n",
    "\n",
    "model = xg.train(params, dtrain)\n",
    "y_pred = model.predict(dtest)\n",
    "\n",
    "print(sklearn.metrics.classification_report(y_test, y_pred))\n",
    "\n",
    "#model = xg.XGBClassifier(eval_metric = \"mae\", objective = 'multi:softmax', random_state = seed, num_class = 3)\n",
    "#model.fit(train_x,train_y)"
   ]
  },
  {
   "cell_type": "code",
   "execution_count": 2,
   "metadata": {},
   "outputs": [
    {
     "name": "stdout",
     "output_type": "stream",
     "text": [
      "(11250, 36) (11250,) (3750, 36) (3750,)\n",
      "              precision    recall  f1-score   support\n",
      "\n",
      "           0       0.53      0.32      0.40      1160\n",
      "           1       0.60      0.86      0.70      2100\n",
      "           2       0.25      0.01      0.02       490\n",
      "\n",
      "    accuracy                           0.58      3750\n",
      "   macro avg       0.46      0.40      0.38      3750\n",
      "weighted avg       0.53      0.58      0.52      3750\n",
      "\n"
     ]
    }
   ],
   "source": [
    "\n",
    "train_y = pd.read_csv(\"Data/train_labels.csv\", header = None)\n",
    "train_y = np.ravel(train_y)\n",
    "test_x = pd.read_csv(\"Data/test_features.csv\", header = None)\n",
    "\n",
    "\n",
    "params = {\n",
    "    'max_depth': 6,\n",
    "    #'objective': 'multi:softmax',  # error evaluation for multiclass training\n",
    "    'num_class': 3,\n",
    "    'feval': 'new_cost',\n",
    "}\n",
    "\n",
    "def new_cost(y_pred, y_true):\n",
    "    score = abs(y_pred - y_true)\n",
    "    return 'new_cost', score\n",
    "\n",
    "X_train, X_test, y_train, y_test = sklearn.model_selection.train_test_split(train_x, train_y, random_state=42, stratify=train_y)\n",
    "\n",
    "print(X_train.shape, y_train.shape, X_test.shape, y_test.shape)\n",
    "\n",
    "dtrain = xg.DMatrix(data=X_train, label=y_train)\n",
    "dtest = xg.DMatrix(data=X_test)\n",
    "\n",
    "#dtrain = xg.DMatrix(data=train_x, label=train_y)\n",
    "#dtest = xg.DMatrix(data=test_x)\n",
    "\n",
    "model = xg.train(params, dtrain)\n",
    "y_pred = model.predict(dtest)\n",
    "\n",
    "print(sklearn.metrics.classification_report(y_test, y_pred))\n",
    "\n",
    "#model = xg.XGBClassifier(eval_metric = \"mae\", objective = 'multi:softmax', random_state = seed, num_class = 3)\n",
    "#model.fit(train_x,train_y)"
   ]
  },
  {
   "cell_type": "code",
   "execution_count": 27,
   "metadata": {},
   "outputs": [
    {
     "data": {
      "text/plain": [
       "array([1., 1., 1., ..., 0., 1., 0.], dtype=float32)"
      ]
     },
     "execution_count": 27,
     "metadata": {},
     "output_type": "execute_result"
    }
   ],
   "source": [
    "pred"
   ]
  },
  {
   "cell_type": "code",
   "execution_count": 13,
   "metadata": {},
   "outputs": [
    {
     "ename": "TypeError",
     "evalue": "estimator should be an estimator implementing 'fit' method, <xgboost.core.Booster object at 0x1a1b0794e0> was passed",
     "output_type": "error",
     "traceback": [
      "\u001b[0;31m---------------------------------------------------------------------------\u001b[0m",
      "\u001b[0;31mTypeError\u001b[0m                                 Traceback (most recent call last)",
      "\u001b[0;32m<ipython-input-13-6273261851c3>\u001b[0m in \u001b[0;36m<module>\u001b[0;34m\u001b[0m\n\u001b[1;32m      3\u001b[0m \u001b[0;34m\u001b[0m\u001b[0m\n\u001b[1;32m      4\u001b[0m \u001b[0mclf\u001b[0m \u001b[0;34m=\u001b[0m \u001b[0msklearn\u001b[0m\u001b[0;34m.\u001b[0m\u001b[0mmodel_selection\u001b[0m\u001b[0;34m.\u001b[0m\u001b[0mGridSearchCV\u001b[0m\u001b[0;34m(\u001b[0m\u001b[0mestimator\u001b[0m\u001b[0;34m=\u001b[0m\u001b[0mmodel\u001b[0m\u001b[0;34m,\u001b[0m \u001b[0mparam_grid\u001b[0m\u001b[0;34m=\u001b[0m\u001b[0mparameter_candidates\u001b[0m\u001b[0;34m,\u001b[0m \u001b[0mcv\u001b[0m \u001b[0;34m=\u001b[0m \u001b[0;36m3\u001b[0m\u001b[0;34m,\u001b[0m \u001b[0mverbose\u001b[0m \u001b[0;34m=\u001b[0m \u001b[0;36m2\u001b[0m\u001b[0;34m,\u001b[0m \u001b[0mn_jobs\u001b[0m \u001b[0;34m=\u001b[0m \u001b[0;34m-\u001b[0m\u001b[0;36m1\u001b[0m\u001b[0;34m)\u001b[0m\u001b[0;34m\u001b[0m\u001b[0;34m\u001b[0m\u001b[0m\n\u001b[0;32m----> 5\u001b[0;31m \u001b[0mbest_model\u001b[0m \u001b[0;34m=\u001b[0m \u001b[0mclf\u001b[0m\u001b[0;34m.\u001b[0m\u001b[0mfit\u001b[0m\u001b[0;34m(\u001b[0m\u001b[0mtrain_x\u001b[0m\u001b[0;34m,\u001b[0m \u001b[0mtrain_y\u001b[0m\u001b[0;34m)\u001b[0m\u001b[0;34m\u001b[0m\u001b[0;34m\u001b[0m\u001b[0m\n\u001b[0m\u001b[1;32m      6\u001b[0m \u001b[0;31m#print(best_model.best_estimator_.get_params())\u001b[0m\u001b[0;34m\u001b[0m\u001b[0;34m\u001b[0m\u001b[0;34m\u001b[0m\u001b[0m\n",
      "\u001b[0;32m//anaconda3/lib/python3.7/site-packages/sklearn/model_selection/_search.py\u001b[0m in \u001b[0;36mfit\u001b[0;34m(self, X, y, groups, **fit_params)\u001b[0m\n\u001b[1;32m    606\u001b[0m \u001b[0;34m\u001b[0m\u001b[0m\n\u001b[1;32m    607\u001b[0m         scorers, self.multimetric_ = _check_multimetric_scoring(\n\u001b[0;32m--> 608\u001b[0;31m             self.estimator, scoring=self.scoring)\n\u001b[0m\u001b[1;32m    609\u001b[0m \u001b[0;34m\u001b[0m\u001b[0m\n\u001b[1;32m    610\u001b[0m         \u001b[0;32mif\u001b[0m \u001b[0mself\u001b[0m\u001b[0;34m.\u001b[0m\u001b[0mmultimetric_\u001b[0m\u001b[0;34m:\u001b[0m\u001b[0;34m\u001b[0m\u001b[0;34m\u001b[0m\u001b[0m\n",
      "\u001b[0;32m//anaconda3/lib/python3.7/site-packages/sklearn/metrics/scorer.py\u001b[0m in \u001b[0;36m_check_multimetric_scoring\u001b[0;34m(estimator, scoring)\u001b[0m\n\u001b[1;32m    340\u001b[0m     if callable(scoring) or scoring is None or isinstance(scoring,\n\u001b[1;32m    341\u001b[0m                                                           str):\n\u001b[0;32m--> 342\u001b[0;31m         \u001b[0mscorers\u001b[0m \u001b[0;34m=\u001b[0m \u001b[0;34m{\u001b[0m\u001b[0;34m\"score\"\u001b[0m\u001b[0;34m:\u001b[0m \u001b[0mcheck_scoring\u001b[0m\u001b[0;34m(\u001b[0m\u001b[0mestimator\u001b[0m\u001b[0;34m,\u001b[0m \u001b[0mscoring\u001b[0m\u001b[0;34m=\u001b[0m\u001b[0mscoring\u001b[0m\u001b[0;34m)\u001b[0m\u001b[0;34m}\u001b[0m\u001b[0;34m\u001b[0m\u001b[0;34m\u001b[0m\u001b[0m\n\u001b[0m\u001b[1;32m    343\u001b[0m         \u001b[0;32mreturn\u001b[0m \u001b[0mscorers\u001b[0m\u001b[0;34m,\u001b[0m \u001b[0;32mFalse\u001b[0m\u001b[0;34m\u001b[0m\u001b[0;34m\u001b[0m\u001b[0m\n\u001b[1;32m    344\u001b[0m     \u001b[0;32melse\u001b[0m\u001b[0;34m:\u001b[0m\u001b[0;34m\u001b[0m\u001b[0;34m\u001b[0m\u001b[0m\n",
      "\u001b[0;32m//anaconda3/lib/python3.7/site-packages/sklearn/metrics/scorer.py\u001b[0m in \u001b[0;36mcheck_scoring\u001b[0;34m(estimator, scoring, allow_none)\u001b[0m\n\u001b[1;32m    268\u001b[0m     \u001b[0;32mif\u001b[0m \u001b[0;32mnot\u001b[0m \u001b[0mhasattr\u001b[0m\u001b[0;34m(\u001b[0m\u001b[0mestimator\u001b[0m\u001b[0;34m,\u001b[0m \u001b[0;34m'fit'\u001b[0m\u001b[0;34m)\u001b[0m\u001b[0;34m:\u001b[0m\u001b[0;34m\u001b[0m\u001b[0;34m\u001b[0m\u001b[0m\n\u001b[1;32m    269\u001b[0m         raise TypeError(\"estimator should be an estimator implementing \"\n\u001b[0;32m--> 270\u001b[0;31m                         \"'fit' method, %r was passed\" % estimator)\n\u001b[0m\u001b[1;32m    271\u001b[0m     \u001b[0;32mif\u001b[0m \u001b[0misinstance\u001b[0m\u001b[0;34m(\u001b[0m\u001b[0mscoring\u001b[0m\u001b[0;34m,\u001b[0m \u001b[0mstr\u001b[0m\u001b[0;34m)\u001b[0m\u001b[0;34m:\u001b[0m\u001b[0;34m\u001b[0m\u001b[0;34m\u001b[0m\u001b[0m\n\u001b[1;32m    272\u001b[0m         \u001b[0;32mreturn\u001b[0m \u001b[0mget_scorer\u001b[0m\u001b[0;34m(\u001b[0m\u001b[0mscoring\u001b[0m\u001b[0;34m)\u001b[0m\u001b[0;34m\u001b[0m\u001b[0;34m\u001b[0m\u001b[0m\n",
      "\u001b[0;31mTypeError\u001b[0m: estimator should be an estimator implementing 'fit' method, <xgboost.core.Booster object at 0x1a1b0794e0> was passed"
     ]
    }
   ],
   "source": [
    "# Parameter Tuning, Nested CV\n",
    "parameter_candidates = dict(eta = [.1], nrounds = [100], max_depth = [10], min_child_weight = [1], colsample_bytree = [i*.1 for i in range(5,10)]) #max_depth = [3,5]), gamma = [0,.1,1])#[.01, .05, .1, .2], max_depth = [3, 5, 7, 10], gamma = [0,.1, 1])\n",
    "\n",
    "clf = sklearn.model_selection.GridSearchCV(estimator=model, param_grid=parameter_candidates, cv = 3, verbose = 2, n_jobs = -1)\n",
    "best_model = clf.fit(train_x, train_y)\n",
    "#print(best_model.best_estimator_.get_params())"
   ]
  },
  {
   "cell_type": "code",
   "execution_count": 32,
   "metadata": {},
   "outputs": [
    {
     "data": {
      "text/plain": [
       "{'mean_fit_time': array([13.45608338, 16.43761651, 19.03251974, 21.188351  ]),\n",
       " 'std_fit_time': array([0.12058937, 0.39710437, 0.11690589, 0.24628481]),\n",
       " 'mean_score_time': array([0.28373535, 0.22532868, 0.3043321 , 0.44033972]),\n",
       " 'std_score_time': array([0.02645288, 0.02163299, 0.02913595, 0.18508337]),\n",
       " 'param_eta': masked_array(data=[0.1, 0.1, 0.1, 0.1],\n",
       "              mask=[False, False, False, False],\n",
       "        fill_value='?',\n",
       "             dtype=object),\n",
       " 'param_max_depth': masked_array(data=[7, 8, 9, 10],\n",
       "              mask=[False, False, False, False],\n",
       "        fill_value='?',\n",
       "             dtype=object),\n",
       " 'param_min_child_weight': masked_array(data=[1, 1, 1, 1],\n",
       "              mask=[False, False, False, False],\n",
       "        fill_value='?',\n",
       "             dtype=object),\n",
       " 'param_nrounds': masked_array(data=[100, 100, 100, 100],\n",
       "              mask=[False, False, False, False],\n",
       "        fill_value='?',\n",
       "             dtype=object),\n",
       " 'params': [{'eta': 0.1,\n",
       "   'max_depth': 7,\n",
       "   'min_child_weight': 1,\n",
       "   'nrounds': 100},\n",
       "  {'eta': 0.1, 'max_depth': 8, 'min_child_weight': 1, 'nrounds': 100},\n",
       "  {'eta': 0.1, 'max_depth': 9, 'min_child_weight': 1, 'nrounds': 100},\n",
       "  {'eta': 0.1, 'max_depth': 10, 'min_child_weight': 1, 'nrounds': 100}],\n",
       " 'split0_test_score': array([0.57288542, 0.5714857 , 0.56908618, 0.56988602]),\n",
       " 'split1_test_score': array([0.5678, 0.565 , 0.567 , 0.562 ]),\n",
       " 'split2_test_score': array([0.57411482, 0.57311462, 0.56771354, 0.5675135 ]),\n",
       " 'mean_test_score': array([0.5716    , 0.56986667, 0.56793333, 0.56646667]),\n",
       " 'std_test_score': array([0.00273348, 0.00350492, 0.00086578, 0.00330359]),\n",
       " 'rank_test_score': array([1, 2, 3, 4], dtype=int32)}"
      ]
     },
     "execution_count": 32,
     "metadata": {},
     "output_type": "execute_result"
    }
   ],
   "source": [
    "clf.cv_results_\n",
    "\n",
    "#n_rounds didn't seem to matter\n",
    "#highly imbalanced so chose min_child_weight = 1\n",
    "#max_depth"
   ]
  },
  {
   "cell_type": "code",
   "execution_count": 33,
   "metadata": {},
   "outputs": [
    {
     "name": "stderr",
     "output_type": "stream",
     "text": [
      "[Parallel(n_jobs=-1)]: Using backend LokyBackend with 4 concurrent workers.\n",
      "[Parallel(n_jobs=-1)]: Done   5 out of   5 | elapsed:   41.8s finished\n",
      "[Parallel(n_jobs=-1)]: Using backend LokyBackend with 4 concurrent workers.\n"
     ]
    },
    {
     "name": "stdout",
     "output_type": "stream",
     "text": [
      "[0.55033333 0.57266667 0.568      0.577      0.56466667]\n",
      "Tuned model error rate: 56.653333333333336\n",
      "[0.588      0.57933333 0.58033333 0.592      0.565     ]\n",
      "Our basic model error rate: 58.093333333333334\n"
     ]
    },
    {
     "name": "stderr",
     "output_type": "stream",
     "text": [
      "[Parallel(n_jobs=-1)]: Done   5 out of   5 | elapsed:   10.7s finished\n"
     ]
    }
   ],
   "source": [
    "# Test Accuracy\n",
    "\n",
    "kfold = sklearn.model_selection.KFold(n_splits = 5, random_state = seed)\n",
    "model = xg.XGBClassifier(eval_metric = \"mae\", objective = \"multi:softmax\",nrounds = 100, min_child_weight = 1, max_depth = 10, eta = .01, gamma = 0, verbose = 2)\n",
    "results = sklearn.model_selection.cross_val_score(model, train_x, train_y, cv = kfold, n_jobs = -1, verbose = 2)\n",
    "print(results)\n",
    "print(\"Tuned model error rate: \" + str(results.mean()*100))\n",
    "\n",
    "model2 = xg.XGBClassifier(eval_metric = \"mae\", objective = \"multi:softmax\", verbose = 2)\n",
    "results2 = sklearn.model_selection.cross_val_score(model2, train_x, train_y, cv = kfold, n_jobs = -1, verbose = 2)\n",
    "print(results2)\n",
    "print(\"Our basic model error rate: \" + str(results2.mean()*100))"
   ]
  },
  {
   "cell_type": "code",
   "execution_count": 47,
   "metadata": {},
   "outputs": [],
   "source": [
    "scores = sklearn.model_selection.cross_validate(model, train_x, train_y, scoring='neg_mean_absolute_error', cv=5, return_estimator=True)"
   ]
  },
  {
   "cell_type": "code",
   "execution_count": 24,
   "metadata": {},
   "outputs": [],
   "source": [
    "#model = model.fit(train_x, train_y)\n",
    "#y_pred = model.predict()\n",
    "y_pred = pd.DataFrame(y_pred)\n",
    "index = pd.DataFrame([i for i in range(5000)])\n",
    "y_pred_df = pd.concat([index, y_pred], axis=1, ignore_index=True)"
   ]
  },
  {
   "cell_type": "code",
   "execution_count": 31,
   "metadata": {},
   "outputs": [],
   "source": []
  },
  {
   "cell_type": "code",
   "execution_count": 49,
   "metadata": {},
   "outputs": [
    {
     "data": {
      "text/plain": [
       "{'fit_time': array([4.54845786, 4.34016895, 3.9818821 , 3.83891797, 3.51318192]),\n",
       " 'score_time': array([0.04001737, 0.02530026, 0.03728795, 0.0265131 , 0.02483106]),\n",
       " 'estimator': (XGBClassifier(base_score=0.5, booster='gbtree', colsample_bylevel=1,\n",
       "                colsample_bynode=1, colsample_bytree=1, eval_metric='mae',\n",
       "                gamma=0, learning_rate=0.1, max_delta_step=0, max_depth=3,\n",
       "                min_child_weight=1, missing=None, n_estimators=100, n_jobs=1,\n",
       "                nthread=None, objective='multi:softprob', random_state=1234,\n",
       "                reg_alpha=0, reg_lambda=1, scale_pos_weight=1, seed=None,\n",
       "                silent=None, subsample=1, verbose=2, verbosity=1),\n",
       "  XGBClassifier(base_score=0.5, booster='gbtree', colsample_bylevel=1,\n",
       "                colsample_bynode=1, colsample_bytree=1, eval_metric='mae',\n",
       "                gamma=0, learning_rate=0.1, max_delta_step=0, max_depth=3,\n",
       "                min_child_weight=1, missing=None, n_estimators=100, n_jobs=1,\n",
       "                nthread=None, objective='multi:softprob', random_state=1234,\n",
       "                reg_alpha=0, reg_lambda=1, scale_pos_weight=1, seed=None,\n",
       "                silent=None, subsample=1, verbose=2, verbosity=1),\n",
       "  XGBClassifier(base_score=0.5, booster='gbtree', colsample_bylevel=1,\n",
       "                colsample_bynode=1, colsample_bytree=1, eval_metric='mae',\n",
       "                gamma=0, learning_rate=0.1, max_delta_step=0, max_depth=3,\n",
       "                min_child_weight=1, missing=None, n_estimators=100, n_jobs=1,\n",
       "                nthread=None, objective='multi:softprob', random_state=1234,\n",
       "                reg_alpha=0, reg_lambda=1, scale_pos_weight=1, seed=None,\n",
       "                silent=None, subsample=1, verbose=2, verbosity=1),\n",
       "  XGBClassifier(base_score=0.5, booster='gbtree', colsample_bylevel=1,\n",
       "                colsample_bynode=1, colsample_bytree=1, eval_metric='mae',\n",
       "                gamma=0, learning_rate=0.1, max_delta_step=0, max_depth=3,\n",
       "                min_child_weight=1, missing=None, n_estimators=100, n_jobs=1,\n",
       "                nthread=None, objective='multi:softprob', random_state=1234,\n",
       "                reg_alpha=0, reg_lambda=1, scale_pos_weight=1, seed=None,\n",
       "                silent=None, subsample=1, verbose=2, verbosity=1),\n",
       "  XGBClassifier(base_score=0.5, booster='gbtree', colsample_bylevel=1,\n",
       "                colsample_bynode=1, colsample_bytree=1, eval_metric='mae',\n",
       "                gamma=0, learning_rate=0.1, max_delta_step=0, max_depth=3,\n",
       "                min_child_weight=1, missing=None, n_estimators=100, n_jobs=1,\n",
       "                nthread=None, objective='multi:softprob', random_state=1234,\n",
       "                reg_alpha=0, reg_lambda=1, scale_pos_weight=1, seed=None,\n",
       "                silent=None, subsample=1, verbose=2, verbosity=1)),\n",
       " 'test_score': array([-0.423     , -0.44033333, -0.435     , -0.42633333, -0.43      ])}"
      ]
     },
     "execution_count": 49,
     "metadata": {},
     "output_type": "execute_result"
    }
   ],
   "source": [
    "scores2 = sklearn.model_selection.cross_validate(model2, train_x, train_y, scoring='neg_mean_absolute_error', cv=5, return_estimator=True)\n",
    "scores2"
   ]
  },
  {
   "cell_type": "code",
   "execution_count": 61,
   "metadata": {},
   "outputs": [
    {
     "data": {
      "image/png": "[encoded data removed]",
      "text/plain": [
       "<Figure size 432x288 with 1 Axes>"
      ]
     },
     "metadata": {
      "needs_background": "light"
     },
     "output_type": "display_data"
    }
   ],
   "source": [
    "# EDA\n",
    "plt.scatter(train_x[0], train_x[1], c = train_y)\n",
    "plt.show()"
   ]
  },
  {
   "cell_type": "code",
   "execution_count": 39,
   "metadata": {},
   "outputs": [],
   "source": [
    "for i in range(train_x.shape[1]):\n",
    "    plt.boxplot(train_x[i])\n",
    "    plt.show()"
   ]
  },
  {
   "cell_type": "code",
   "execution_count": 13,
   "metadata": {},
   "outputs": [],
   "source": [
    "model = xg.XGBClassifier(eval_metric = \"mae\", objective = \"multi:softmax\", max_depth = 3, eta = .01, verbose = 2)\n",
    "model2 = xg.XGBClassifier(eval_metric = \"mae\", objective = \"multi:softmax\", max_depth = 20, eta = .3, verbose = 2)\n",
    "pred1 = model.fit(train_x, train_y)\n",
    "pred2 = model2.fit(train_x, train_y)\n",
    "pred1 = model.predict(test_x)\n",
    "pred2 = model2.predict(test_x)"
   ]
  },
  {
   "cell_type": "code",
   "execution_count": 14,
   "metadata": {},
   "outputs": [
    {
     "data": {
      "text/plain": [
       "310"
      ]
     },
     "execution_count": 14,
     "metadata": {},
     "output_type": "execute_result"
    }
   ],
   "source": [
    "(pred1-pred2).sum()"
   ]
  },
  {
   "cell_type": "markdown",
   "metadata": {},
   "source": [
    "SVM Model"
   ]
  },
  {
   "cell_type": "code",
   "execution_count": 16,
   "metadata": {},
   "outputs": [
    {
     "ename": "ValueError",
     "evalue": "could not convert string to float: 's'",
     "output_type": "error",
     "traceback": [
      "\u001b[0;31m---------------------------------------------------------------------------\u001b[0m",
      "\u001b[0;31mValueError\u001b[0m                                Traceback (most recent call last)",
      "\u001b[0;32m<ipython-input-16-64a1b418c83c>\u001b[0m in \u001b[0;36m<module>\u001b[0;34m\u001b[0m\n\u001b[1;32m      2\u001b[0m \u001b[0;34m\u001b[0m\u001b[0m\n\u001b[1;32m      3\u001b[0m \u001b[0msvm_model\u001b[0m \u001b[0;34m=\u001b[0m \u001b[0msvm\u001b[0m\u001b[0;34m.\u001b[0m\u001b[0mSVC\u001b[0m\u001b[0;34m(\u001b[0m\u001b[0mkernel\u001b[0m\u001b[0;34m=\u001b[0m\u001b[0;34m'rbf'\u001b[0m\u001b[0;34m,\u001b[0m \u001b[0mC\u001b[0m\u001b[0;34m=\u001b[0m\u001b[0;36m1\u001b[0m\u001b[0;34m,\u001b[0m \u001b[0mgamma\u001b[0m \u001b[0;34m=\u001b[0m \u001b[0;36m1\u001b[0m\u001b[0;34m)\u001b[0m\u001b[0;34m\u001b[0m\u001b[0;34m\u001b[0m\u001b[0m\n\u001b[0;32m----> 4\u001b[0;31m \u001b[0msvm_model\u001b[0m\u001b[0;34m.\u001b[0m\u001b[0mfit\u001b[0m\u001b[0;34m(\u001b[0m\u001b[0mX_train\u001b[0m\u001b[0;34m,\u001b[0m \u001b[0my_train\u001b[0m\u001b[0;34m)\u001b[0m\u001b[0;34m\u001b[0m\u001b[0;34m\u001b[0m\u001b[0m\n\u001b[0m\u001b[1;32m      5\u001b[0m \u001b[0my_pred\u001b[0m \u001b[0;34m=\u001b[0m \u001b[0msvm_model\u001b[0m\u001b[0;34m.\u001b[0m\u001b[0mpredict\u001b[0m\u001b[0;34m(\u001b[0m\u001b[0mX_test\u001b[0m\u001b[0;34m)\u001b[0m\u001b[0;34m\u001b[0m\u001b[0;34m\u001b[0m\u001b[0m\n\u001b[1;32m      6\u001b[0m \u001b[0;34m\u001b[0m\u001b[0m\n",
      "\u001b[0;32m//anaconda3/lib/python3.7/site-packages/sklearn/svm/base.py\u001b[0m in \u001b[0;36mfit\u001b[0;34m(self, X, y, sample_weight)\u001b[0m\n\u001b[1;32m    144\u001b[0m         X, y = check_X_y(X, y, dtype=np.float64,\n\u001b[1;32m    145\u001b[0m                          \u001b[0morder\u001b[0m\u001b[0;34m=\u001b[0m\u001b[0;34m'C'\u001b[0m\u001b[0;34m,\u001b[0m \u001b[0maccept_sparse\u001b[0m\u001b[0;34m=\u001b[0m\u001b[0;34m'csr'\u001b[0m\u001b[0;34m,\u001b[0m\u001b[0;34m\u001b[0m\u001b[0;34m\u001b[0m\u001b[0m\n\u001b[0;32m--> 146\u001b[0;31m                          accept_large_sparse=False)\n\u001b[0m\u001b[1;32m    147\u001b[0m         \u001b[0my\u001b[0m \u001b[0;34m=\u001b[0m \u001b[0mself\u001b[0m\u001b[0;34m.\u001b[0m\u001b[0m_validate_targets\u001b[0m\u001b[0;34m(\u001b[0m\u001b[0my\u001b[0m\u001b[0;34m)\u001b[0m\u001b[0;34m\u001b[0m\u001b[0;34m\u001b[0m\u001b[0m\n\u001b[1;32m    148\u001b[0m \u001b[0;34m\u001b[0m\u001b[0m\n",
      "\u001b[0;32m//anaconda3/lib/python3.7/site-packages/sklearn/utils/validation.py\u001b[0m in \u001b[0;36mcheck_X_y\u001b[0;34m(X, y, accept_sparse, accept_large_sparse, dtype, order, copy, force_all_finite, ensure_2d, allow_nd, multi_output, ensure_min_samples, ensure_min_features, y_numeric, warn_on_dtype, estimator)\u001b[0m\n\u001b[1;32m    717\u001b[0m                     \u001b[0mensure_min_features\u001b[0m\u001b[0;34m=\u001b[0m\u001b[0mensure_min_features\u001b[0m\u001b[0;34m,\u001b[0m\u001b[0;34m\u001b[0m\u001b[0;34m\u001b[0m\u001b[0m\n\u001b[1;32m    718\u001b[0m                     \u001b[0mwarn_on_dtype\u001b[0m\u001b[0;34m=\u001b[0m\u001b[0mwarn_on_dtype\u001b[0m\u001b[0;34m,\u001b[0m\u001b[0;34m\u001b[0m\u001b[0;34m\u001b[0m\u001b[0m\n\u001b[0;32m--> 719\u001b[0;31m                     estimator=estimator)\n\u001b[0m\u001b[1;32m    720\u001b[0m     \u001b[0;32mif\u001b[0m \u001b[0mmulti_output\u001b[0m\u001b[0;34m:\u001b[0m\u001b[0;34m\u001b[0m\u001b[0;34m\u001b[0m\u001b[0m\n\u001b[1;32m    721\u001b[0m         y = check_array(y, 'csr', force_all_finite=True, ensure_2d=False,\n",
      "\u001b[0;32m//anaconda3/lib/python3.7/site-packages/sklearn/utils/validation.py\u001b[0m in \u001b[0;36mcheck_array\u001b[0;34m(array, accept_sparse, accept_large_sparse, dtype, order, copy, force_all_finite, ensure_2d, allow_nd, ensure_min_samples, ensure_min_features, warn_on_dtype, estimator)\u001b[0m\n\u001b[1;32m    494\u001b[0m             \u001b[0;32mtry\u001b[0m\u001b[0;34m:\u001b[0m\u001b[0;34m\u001b[0m\u001b[0;34m\u001b[0m\u001b[0m\n\u001b[1;32m    495\u001b[0m                 \u001b[0mwarnings\u001b[0m\u001b[0;34m.\u001b[0m\u001b[0msimplefilter\u001b[0m\u001b[0;34m(\u001b[0m\u001b[0;34m'error'\u001b[0m\u001b[0;34m,\u001b[0m \u001b[0mComplexWarning\u001b[0m\u001b[0;34m)\u001b[0m\u001b[0;34m\u001b[0m\u001b[0;34m\u001b[0m\u001b[0m\n\u001b[0;32m--> 496\u001b[0;31m                 \u001b[0marray\u001b[0m \u001b[0;34m=\u001b[0m \u001b[0mnp\u001b[0m\u001b[0;34m.\u001b[0m\u001b[0masarray\u001b[0m\u001b[0;34m(\u001b[0m\u001b[0marray\u001b[0m\u001b[0;34m,\u001b[0m \u001b[0mdtype\u001b[0m\u001b[0;34m=\u001b[0m\u001b[0mdtype\u001b[0m\u001b[0;34m,\u001b[0m \u001b[0morder\u001b[0m\u001b[0;34m=\u001b[0m\u001b[0morder\u001b[0m\u001b[0;34m)\u001b[0m\u001b[0;34m\u001b[0m\u001b[0;34m\u001b[0m\u001b[0m\n\u001b[0m\u001b[1;32m    497\u001b[0m             \u001b[0;32mexcept\u001b[0m \u001b[0mComplexWarning\u001b[0m\u001b[0;34m:\u001b[0m\u001b[0;34m\u001b[0m\u001b[0;34m\u001b[0m\u001b[0m\n\u001b[1;32m    498\u001b[0m                 raise ValueError(\"Complex data not supported\\n\"\n",
      "\u001b[0;32m//anaconda3/lib/python3.7/site-packages/numpy/core/numeric.py\u001b[0m in \u001b[0;36masarray\u001b[0;34m(a, dtype, order)\u001b[0m\n\u001b[1;32m    536\u001b[0m \u001b[0;34m\u001b[0m\u001b[0m\n\u001b[1;32m    537\u001b[0m     \"\"\"\n\u001b[0;32m--> 538\u001b[0;31m     \u001b[0;32mreturn\u001b[0m \u001b[0marray\u001b[0m\u001b[0;34m(\u001b[0m\u001b[0ma\u001b[0m\u001b[0;34m,\u001b[0m \u001b[0mdtype\u001b[0m\u001b[0;34m,\u001b[0m \u001b[0mcopy\u001b[0m\u001b[0;34m=\u001b[0m\u001b[0;32mFalse\u001b[0m\u001b[0;34m,\u001b[0m \u001b[0morder\u001b[0m\u001b[0;34m=\u001b[0m\u001b[0morder\u001b[0m\u001b[0;34m)\u001b[0m\u001b[0;34m\u001b[0m\u001b[0;34m\u001b[0m\u001b[0m\n\u001b[0m\u001b[1;32m    539\u001b[0m \u001b[0;34m\u001b[0m\u001b[0m\n\u001b[1;32m    540\u001b[0m \u001b[0;34m\u001b[0m\u001b[0m\n",
      "\u001b[0;31mValueError\u001b[0m: could not convert string to float: 's'"
     ]
    }
   ],
   "source": [
    "X_train, X_test, y_train, y_test = sklearn.model_selection.train_test_split(x, y, random_state=42, stratify=y)\n",
    "\n",
    "svm_model = svm.SVC(kernel='rbf', C=1, gamma = 1)\n",
    "svm_model.fit(X_train, y_train)  \n",
    "y_pred = svm_model.predict(X_test)  \n",
    "\n",
    "\n",
    "#clf = svm.SVC(gamma='scale', decision_function_shape='ovo')\n",
    "#lin_clf = svm.LinearSVC()\n",
    "#scores = sklearn.model_selection.cross_val_score(clf, train_x, train_y, cv=5)\n",
    "#scores   \n",
    "\n",
    "#lin_clf = svm.LinearSVC()\n",
    "#scores2 = sklearn.model_selection.cross_val_score(lin_clf, train_x, train_y, cv=5)\n",
    "\n",
    "print(sklearn.metrics.classification_report(y_test, y_pred))"
   ]
  },
  {
   "cell_type": "code",
   "execution_count": 87,
   "metadata": {},
   "outputs": [
    {
     "name": "stdout",
     "output_type": "stream",
     "text": [
      "0.5694666666666667\n",
      "0.5730666666666667\n"
     ]
    }
   ],
   "source": [
    "print(scores.mean())\n",
    "print(scores2.mean())"
   ]
  },
  {
   "cell_type": "code",
   "execution_count": 71,
   "metadata": {},
   "outputs": [
    {
     "name": "stderr",
     "output_type": "stream",
     "text": [
      "[Parallel(n_jobs=1)]: Using backend SequentialBackend with 1 concurrent workers.\n"
     ]
    },
    {
     "name": "stdout",
     "output_type": "stream",
     "text": [
      "[CV]  ................................................................\n",
      "[CV] ................................................. , total=  15.9s\n",
      "[CV]  ................................................................\n"
     ]
    },
    {
     "name": "stderr",
     "output_type": "stream",
     "text": [
      "[Parallel(n_jobs=1)]: Done   1 out of   1 | elapsed:   15.9s remaining:    0.0s\n"
     ]
    },
    {
     "name": "stdout",
     "output_type": "stream",
     "text": [
      "[CV] ................................................. , total=  19.9s\n",
      "[CV]  ................................................................\n",
      "[CV] ................................................. , total=  17.8s\n",
      "[CV]  ................................................................\n",
      "[CV] ................................................. , total=  16.3s\n",
      "[CV]  ................................................................\n",
      "[CV] ................................................. , total=  20.3s\n"
     ]
    },
    {
     "name": "stderr",
     "output_type": "stream",
     "text": [
      "[Parallel(n_jobs=1)]: Done   5 out of   5 | elapsed:  1.5min finished\n"
     ]
    },
    {
     "data": {
      "text/plain": [
       "array([0.581     , 0.57      , 0.569     , 0.57466667, 0.56933333])"
      ]
     },
     "execution_count": 71,
     "metadata": {},
     "output_type": "execute_result"
    }
   ],
   "source": [
    "scores = sklearn.model_selection.cross_val_score(svm_model, train_x, train_y, cv=5, verbose = 2)\n",
    "scores"
   ]
  },
  {
   "cell_type": "code",
   "execution_count": 67,
   "metadata": {},
   "outputs": [
    {
     "name": "stdout",
     "output_type": "stream",
     "text": [
      "Fitting 3 folds for each of 20 candidates, totalling 60 fits\n"
     ]
    },
    {
     "name": "stderr",
     "output_type": "stream",
     "text": [
      "[Parallel(n_jobs=-1)]: Using backend LokyBackend with 4 concurrent workers.\n",
      "[Parallel(n_jobs=-1)]: Done  33 tasks      | elapsed:  3.3min\n",
      "[Parallel(n_jobs=-1)]: Done  60 out of  60 | elapsed:  6.5min finished\n"
     ]
    }
   ],
   "source": [
    "parameter_candidates = dict(C = [0.001, 0.01, 0.1, 1, 10], gamma = [0.001, 0.01, 0.1, 1])\n",
    "\n",
    "clf = sklearn.model_selection.GridSearchCV(estimator=svm_model, param_grid=parameter_candidates, cv = 3, verbose = 2, n_jobs = -1)\n",
    "best_model = clf.fit(train_x, train_y)"
   ]
  },
  {
   "cell_type": "code",
   "execution_count": 68,
   "metadata": {},
   "outputs": [
    {
     "data": {
      "text/plain": [
       "GridSearchCV(cv=3, error_score='raise-deprecating',\n",
       "             estimator=SVC(C=1.0, cache_size=200, class_weight=None, coef0=0.0,\n",
       "                           decision_function_shape='ovr', degree=3,\n",
       "                           gamma='auto_deprecated', kernel='rbf', max_iter=-1,\n",
       "                           probability=False, random_state=None, shrinking=True,\n",
       "                           tol=0.001, verbose=False),\n",
       "             iid='warn', n_jobs=-1,\n",
       "             param_grid={'C': [0.001, 0.01, 0.1, 1, 10],\n",
       "                         'gamma': [0.001, 0.01, 0.1, 1]},\n",
       "             pre_dispatch='2*n_jobs', refit=True, return_train_score=False,\n",
       "             scoring=None, verbose=2)"
      ]
     },
     "execution_count": 68,
     "metadata": {},
     "output_type": "execute_result"
    }
   ],
   "source": [
    "best_model"
   ]
  },
  {
   "cell_type": "code",
   "execution_count": 69,
   "metadata": {},
   "outputs": [
    {
     "data": {
      "text/plain": [
       "{'mean_fit_time': array([15.06380566, 13.87132573, 14.10490004, 14.98632288, 17.44116227,\n",
       "        16.5221463 , 17.79275457, 24.20104067, 16.87679474, 20.44311817,\n",
       "        24.47664865, 26.76099221, 16.73728005, 23.48184101, 26.15974196,\n",
       "        31.45044335, 21.37109637, 23.61214741, 27.91782872, 24.26902795]),\n",
       " 'std_fit_time': array([0.05315476, 0.6854146 , 0.35270174, 0.04759087, 0.12895225,\n",
       "        0.73729413, 1.495658  , 0.34858947, 0.24783438, 2.15016478,\n",
       "        1.40370074, 0.36853612, 0.36877907, 1.8490485 , 1.59100373,\n",
       "        0.39112532, 0.46599849, 0.71465207, 1.06510925, 2.1944863 ]),\n",
       " 'mean_score_time': array([3.21363346, 3.20599842, 3.39721123, 3.61953068, 4.18391101,\n",
       "        4.68917274, 4.78626299, 5.31024035, 5.17715096, 4.95188141,\n",
       "        5.11249701, 4.25480167, 4.45374266, 5.833438  , 5.98799006,\n",
       "        4.87351028, 4.57321072, 4.20692913, 4.48427391, 3.18638627]),\n",
       " 'std_score_time': array([0.02047594, 0.02293924, 0.17186933, 0.05744497, 0.27889612,\n",
       "        0.1598494 , 0.39605906, 0.12660345, 0.06631331, 0.5376806 ,\n",
       "        0.12802653, 0.40288075, 0.39229961, 1.54702185, 2.31493472,\n",
       "        0.26972184, 0.91721719, 0.41613842, 0.60054735, 0.57633915]),\n",
       " 'param_C': masked_array(data=[0.001, 0.001, 0.001, 0.001, 0.01, 0.01, 0.01, 0.01,\n",
       "                    0.1, 0.1, 0.1, 0.1, 1, 1, 1, 1, 10, 10, 10, 10],\n",
       "              mask=[False, False, False, False, False, False, False, False,\n",
       "                    False, False, False, False, False, False, False, False,\n",
       "                    False, False, False, False],\n",
       "        fill_value='?',\n",
       "             dtype=object),\n",
       " 'param_gamma': masked_array(data=[0.001, 0.01, 0.1, 1, 0.001, 0.01, 0.1, 1, 0.001, 0.01,\n",
       "                    0.1, 1, 0.001, 0.01, 0.1, 1, 0.001, 0.01, 0.1, 1],\n",
       "              mask=[False, False, False, False, False, False, False, False,\n",
       "                    False, False, False, False, False, False, False, False,\n",
       "                    False, False, False, False],\n",
       "        fill_value='?',\n",
       "             dtype=object),\n",
       " 'params': [{'C': 0.001, 'gamma': 0.001},\n",
       "  {'C': 0.001, 'gamma': 0.01},\n",
       "  {'C': 0.001, 'gamma': 0.1},\n",
       "  {'C': 0.001, 'gamma': 1},\n",
       "  {'C': 0.01, 'gamma': 0.001},\n",
       "  {'C': 0.01, 'gamma': 0.01},\n",
       "  {'C': 0.01, 'gamma': 0.1},\n",
       "  {'C': 0.01, 'gamma': 1},\n",
       "  {'C': 0.1, 'gamma': 0.001},\n",
       "  {'C': 0.1, 'gamma': 0.01},\n",
       "  {'C': 0.1, 'gamma': 0.1},\n",
       "  {'C': 0.1, 'gamma': 1},\n",
       "  {'C': 1, 'gamma': 0.001},\n",
       "  {'C': 1, 'gamma': 0.01},\n",
       "  {'C': 1, 'gamma': 0.1},\n",
       "  {'C': 1, 'gamma': 1},\n",
       "  {'C': 10, 'gamma': 0.001},\n",
       "  {'C': 10, 'gamma': 0.01},\n",
       "  {'C': 10, 'gamma': 0.1},\n",
       "  {'C': 10, 'gamma': 1}],\n",
       " 'split0_test_score': array([0.55988802, 0.55988802, 0.55988802, 0.55988802, 0.55988802,\n",
       "        0.55988802, 0.55988802, 0.55988802, 0.55988802, 0.55988802,\n",
       "        0.55988802, 0.56768646, 0.55988802, 0.55988802, 0.56788642,\n",
       "        0.57568486, 0.55988802, 0.55988802, 0.57288542, 0.5484903 ]),\n",
       " 'split1_test_score': array([0.56  , 0.56  , 0.56  , 0.56  , 0.56  , 0.56  , 0.56  , 0.56  ,\n",
       "        0.56  , 0.56  , 0.56  , 0.5708, 0.56  , 0.56  , 0.5654, 0.5704,\n",
       "        0.56  , 0.56  , 0.5686, 0.539 ]),\n",
       " 'split2_test_score': array([0.56011202, 0.56011202, 0.56011202, 0.56011202, 0.56011202,\n",
       "        0.56011202, 0.56011202, 0.56011202, 0.56011202, 0.56011202,\n",
       "        0.56011202, 0.56031206, 0.56011202, 0.56011202, 0.57071414,\n",
       "        0.56911382, 0.56011202, 0.56011202, 0.56931386, 0.54470894]),\n",
       " 'mean_test_score': array([0.56      , 0.56      , 0.56      , 0.56      , 0.56      ,\n",
       "        0.56      , 0.56      , 0.56      , 0.56      , 0.56      ,\n",
       "        0.56      , 0.56626667, 0.56      , 0.56      , 0.568     ,\n",
       "        0.57173333, 0.56      , 0.56      , 0.57026667, 0.54406667]),\n",
       " 'std_test_score': array([9.14476189e-05, 9.14476189e-05, 9.14476189e-05, 9.14476189e-05,\n",
       "        9.14476189e-05, 9.14476189e-05, 9.14476189e-05, 9.14476189e-05,\n",
       "        9.14476189e-05, 9.14476189e-05, 9.14476189e-05, 4.39763404e-03,\n",
       "        9.14476189e-05, 9.14476189e-05, 2.17086775e-03, 2.84346918e-03,\n",
       "        9.14476189e-05, 9.14476189e-05, 1.87480553e-03, 3.90111132e-03]),\n",
       " 'rank_test_score': array([ 5,  5,  5,  5,  5,  5,  5,  5,  5,  5,  5,  4,  5,  5,  3,  1,  5,\n",
       "         5,  2, 20], dtype=int32)}"
      ]
     },
     "execution_count": 69,
     "metadata": {},
     "output_type": "execute_result"
    }
   ],
   "source": [
    "clf.cv_results_"
   ]
  },
  {
   "cell_type": "code",
   "execution_count": 19,
   "metadata": {},
   "outputs": [],
   "source": [
    "#model = svm_model.fit(train_x, train_y)\n",
    "#y_pred = model.predict(test_x)\n",
    "y_pred = [1 for i in range(5000)]\n",
    "y_pred = pd.DataFrame(y_pred)\n",
    "index = pd.DataFrame([i for i in range(5000)])\n",
    "y_pred_df = pd.concat([index, y_pred], axis=1, ignore_index=True)"
   ]
  },
  {
   "cell_type": "code",
   "execution_count": 20,
   "metadata": {},
   "outputs": [],
   "source": [
    "y_pred_df.to_csv(\"submission.csv\", header = [\"Id\", \"Category\"], index = False)"
   ]
  },
  {
   "cell_type": "code",
   "execution_count": 74,
   "metadata": {},
   "outputs": [
    {
     "data": {
      "text/html": [
       "<div>\n",
       "<style scoped>\n",
       "    .dataframe tbody tr th:only-of-type {\n",
       "        vertical-align: middle;\n",
       "    }\n",
       "\n",
       "    .dataframe tbody tr th {\n",
       "        vertical-align: top;\n",
       "    }\n",
       "\n",
       "    .dataframe thead th {\n",
       "        text-align: right;\n",
       "    }\n",
       "</style>\n",
       "<table border=\"1\" class=\"dataframe\">\n",
       "  <thead>\n",
       "    <tr style=\"text-align: right;\">\n",
       "      <th></th>\n",
       "      <th>0</th>\n",
       "      <th>1</th>\n",
       "    </tr>\n",
       "  </thead>\n",
       "  <tbody>\n",
       "    <tr>\n",
       "      <th>0</th>\n",
       "      <td>0</td>\n",
       "      <td>1</td>\n",
       "    </tr>\n",
       "    <tr>\n",
       "      <th>1</th>\n",
       "      <td>1</td>\n",
       "      <td>1</td>\n",
       "    </tr>\n",
       "    <tr>\n",
       "      <th>2</th>\n",
       "      <td>2</td>\n",
       "      <td>1</td>\n",
       "    </tr>\n",
       "    <tr>\n",
       "      <th>3</th>\n",
       "      <td>3</td>\n",
       "      <td>1</td>\n",
       "    </tr>\n",
       "    <tr>\n",
       "      <th>4</th>\n",
       "      <td>4</td>\n",
       "      <td>1</td>\n",
       "    </tr>\n",
       "    <tr>\n",
       "      <th>5</th>\n",
       "      <td>5</td>\n",
       "      <td>1</td>\n",
       "    </tr>\n",
       "    <tr>\n",
       "      <th>6</th>\n",
       "      <td>6</td>\n",
       "      <td>1</td>\n",
       "    </tr>\n",
       "    <tr>\n",
       "      <th>7</th>\n",
       "      <td>7</td>\n",
       "      <td>1</td>\n",
       "    </tr>\n",
       "    <tr>\n",
       "      <th>8</th>\n",
       "      <td>8</td>\n",
       "      <td>1</td>\n",
       "    </tr>\n",
       "    <tr>\n",
       "      <th>9</th>\n",
       "      <td>9</td>\n",
       "      <td>1</td>\n",
       "    </tr>\n",
       "    <tr>\n",
       "      <th>10</th>\n",
       "      <td>10</td>\n",
       "      <td>1</td>\n",
       "    </tr>\n",
       "    <tr>\n",
       "      <th>11</th>\n",
       "      <td>11</td>\n",
       "      <td>1</td>\n",
       "    </tr>\n",
       "    <tr>\n",
       "      <th>12</th>\n",
       "      <td>12</td>\n",
       "      <td>1</td>\n",
       "    </tr>\n",
       "    <tr>\n",
       "      <th>13</th>\n",
       "      <td>13</td>\n",
       "      <td>1</td>\n",
       "    </tr>\n",
       "    <tr>\n",
       "      <th>14</th>\n",
       "      <td>14</td>\n",
       "      <td>1</td>\n",
       "    </tr>\n",
       "    <tr>\n",
       "      <th>15</th>\n",
       "      <td>15</td>\n",
       "      <td>1</td>\n",
       "    </tr>\n",
       "    <tr>\n",
       "      <th>16</th>\n",
       "      <td>16</td>\n",
       "      <td>1</td>\n",
       "    </tr>\n",
       "    <tr>\n",
       "      <th>17</th>\n",
       "      <td>17</td>\n",
       "      <td>1</td>\n",
       "    </tr>\n",
       "    <tr>\n",
       "      <th>18</th>\n",
       "      <td>18</td>\n",
       "      <td>1</td>\n",
       "    </tr>\n",
       "    <tr>\n",
       "      <th>19</th>\n",
       "      <td>19</td>\n",
       "      <td>1</td>\n",
       "    </tr>\n",
       "    <tr>\n",
       "      <th>20</th>\n",
       "      <td>20</td>\n",
       "      <td>1</td>\n",
       "    </tr>\n",
       "    <tr>\n",
       "      <th>21</th>\n",
       "      <td>21</td>\n",
       "      <td>1</td>\n",
       "    </tr>\n",
       "    <tr>\n",
       "      <th>22</th>\n",
       "      <td>22</td>\n",
       "      <td>1</td>\n",
       "    </tr>\n",
       "    <tr>\n",
       "      <th>23</th>\n",
       "      <td>23</td>\n",
       "      <td>1</td>\n",
       "    </tr>\n",
       "    <tr>\n",
       "      <th>24</th>\n",
       "      <td>24</td>\n",
       "      <td>1</td>\n",
       "    </tr>\n",
       "    <tr>\n",
       "      <th>25</th>\n",
       "      <td>25</td>\n",
       "      <td>1</td>\n",
       "    </tr>\n",
       "    <tr>\n",
       "      <th>26</th>\n",
       "      <td>26</td>\n",
       "      <td>1</td>\n",
       "    </tr>\n",
       "    <tr>\n",
       "      <th>27</th>\n",
       "      <td>27</td>\n",
       "      <td>1</td>\n",
       "    </tr>\n",
       "    <tr>\n",
       "      <th>28</th>\n",
       "      <td>28</td>\n",
       "      <td>1</td>\n",
       "    </tr>\n",
       "    <tr>\n",
       "      <th>29</th>\n",
       "      <td>29</td>\n",
       "      <td>1</td>\n",
       "    </tr>\n",
       "    <tr>\n",
       "      <th>...</th>\n",
       "      <td>...</td>\n",
       "      <td>...</td>\n",
       "    </tr>\n",
       "    <tr>\n",
       "      <th>4970</th>\n",
       "      <td>4970</td>\n",
       "      <td>1</td>\n",
       "    </tr>\n",
       "    <tr>\n",
       "      <th>4971</th>\n",
       "      <td>4971</td>\n",
       "      <td>1</td>\n",
       "    </tr>\n",
       "    <tr>\n",
       "      <th>4972</th>\n",
       "      <td>4972</td>\n",
       "      <td>1</td>\n",
       "    </tr>\n",
       "    <tr>\n",
       "      <th>4973</th>\n",
       "      <td>4973</td>\n",
       "      <td>1</td>\n",
       "    </tr>\n",
       "    <tr>\n",
       "      <th>4974</th>\n",
       "      <td>4974</td>\n",
       "      <td>1</td>\n",
       "    </tr>\n",
       "    <tr>\n",
       "      <th>4975</th>\n",
       "      <td>4975</td>\n",
       "      <td>0</td>\n",
       "    </tr>\n",
       "    <tr>\n",
       "      <th>4976</th>\n",
       "      <td>4976</td>\n",
       "      <td>0</td>\n",
       "    </tr>\n",
       "    <tr>\n",
       "      <th>4977</th>\n",
       "      <td>4977</td>\n",
       "      <td>1</td>\n",
       "    </tr>\n",
       "    <tr>\n",
       "      <th>4978</th>\n",
       "      <td>4978</td>\n",
       "      <td>0</td>\n",
       "    </tr>\n",
       "    <tr>\n",
       "      <th>4979</th>\n",
       "      <td>4979</td>\n",
       "      <td>1</td>\n",
       "    </tr>\n",
       "    <tr>\n",
       "      <th>4980</th>\n",
       "      <td>4980</td>\n",
       "      <td>1</td>\n",
       "    </tr>\n",
       "    <tr>\n",
       "      <th>4981</th>\n",
       "      <td>4981</td>\n",
       "      <td>1</td>\n",
       "    </tr>\n",
       "    <tr>\n",
       "      <th>4982</th>\n",
       "      <td>4982</td>\n",
       "      <td>1</td>\n",
       "    </tr>\n",
       "    <tr>\n",
       "      <th>4983</th>\n",
       "      <td>4983</td>\n",
       "      <td>1</td>\n",
       "    </tr>\n",
       "    <tr>\n",
       "      <th>4984</th>\n",
       "      <td>4984</td>\n",
       "      <td>1</td>\n",
       "    </tr>\n",
       "    <tr>\n",
       "      <th>4985</th>\n",
       "      <td>4985</td>\n",
       "      <td>1</td>\n",
       "    </tr>\n",
       "    <tr>\n",
       "      <th>4986</th>\n",
       "      <td>4986</td>\n",
       "      <td>1</td>\n",
       "    </tr>\n",
       "    <tr>\n",
       "      <th>4987</th>\n",
       "      <td>4987</td>\n",
       "      <td>0</td>\n",
       "    </tr>\n",
       "    <tr>\n",
       "      <th>4988</th>\n",
       "      <td>4988</td>\n",
       "      <td>1</td>\n",
       "    </tr>\n",
       "    <tr>\n",
       "      <th>4989</th>\n",
       "      <td>4989</td>\n",
       "      <td>0</td>\n",
       "    </tr>\n",
       "    <tr>\n",
       "      <th>4990</th>\n",
       "      <td>4990</td>\n",
       "      <td>1</td>\n",
       "    </tr>\n",
       "    <tr>\n",
       "      <th>4991</th>\n",
       "      <td>4991</td>\n",
       "      <td>1</td>\n",
       "    </tr>\n",
       "    <tr>\n",
       "      <th>4992</th>\n",
       "      <td>4992</td>\n",
       "      <td>0</td>\n",
       "    </tr>\n",
       "    <tr>\n",
       "      <th>4993</th>\n",
       "      <td>4993</td>\n",
       "      <td>1</td>\n",
       "    </tr>\n",
       "    <tr>\n",
       "      <th>4994</th>\n",
       "      <td>4994</td>\n",
       "      <td>1</td>\n",
       "    </tr>\n",
       "    <tr>\n",
       "      <th>4995</th>\n",
       "      <td>4995</td>\n",
       "      <td>1</td>\n",
       "    </tr>\n",
       "    <tr>\n",
       "      <th>4996</th>\n",
       "      <td>4996</td>\n",
       "      <td>1</td>\n",
       "    </tr>\n",
       "    <tr>\n",
       "      <th>4997</th>\n",
       "      <td>4997</td>\n",
       "      <td>1</td>\n",
       "    </tr>\n",
       "    <tr>\n",
       "      <th>4998</th>\n",
       "      <td>4998</td>\n",
       "      <td>1</td>\n",
       "    </tr>\n",
       "    <tr>\n",
       "      <th>4999</th>\n",
       "      <td>4999</td>\n",
       "      <td>1</td>\n",
       "    </tr>\n",
       "  </tbody>\n",
       "</table>\n",
       "<p>5000 rows × 2 columns</p>\n",
       "</div>"
      ],
      "text/plain": [
       "         0  1\n",
       "0        0  1\n",
       "1        1  1\n",
       "2        2  1\n",
       "3        3  1\n",
       "4        4  1\n",
       "5        5  1\n",
       "6        6  1\n",
       "7        7  1\n",
       "8        8  1\n",
       "9        9  1\n",
       "10      10  1\n",
       "11      11  1\n",
       "12      12  1\n",
       "13      13  1\n",
       "14      14  1\n",
       "15      15  1\n",
       "16      16  1\n",
       "17      17  1\n",
       "18      18  1\n",
       "19      19  1\n",
       "20      20  1\n",
       "21      21  1\n",
       "22      22  1\n",
       "23      23  1\n",
       "24      24  1\n",
       "25      25  1\n",
       "26      26  1\n",
       "27      27  1\n",
       "28      28  1\n",
       "29      29  1\n",
       "...    ... ..\n",
       "4970  4970  1\n",
       "4971  4971  1\n",
       "4972  4972  1\n",
       "4973  4973  1\n",
       "4974  4974  1\n",
       "4975  4975  0\n",
       "4976  4976  0\n",
       "4977  4977  1\n",
       "4978  4978  0\n",
       "4979  4979  1\n",
       "4980  4980  1\n",
       "4981  4981  1\n",
       "4982  4982  1\n",
       "4983  4983  1\n",
       "4984  4984  1\n",
       "4985  4985  1\n",
       "4986  4986  1\n",
       "4987  4987  0\n",
       "4988  4988  1\n",
       "4989  4989  0\n",
       "4990  4990  1\n",
       "4991  4991  1\n",
       "4992  4992  0\n",
       "4993  4993  1\n",
       "4994  4994  1\n",
       "4995  4995  1\n",
       "4996  4996  1\n",
       "4997  4997  1\n",
       "4998  4998  1\n",
       "4999  4999  1\n",
       "\n",
       "[5000 rows x 2 columns]"
      ]
     },
     "execution_count": 74,
     "metadata": {},
     "output_type": "execute_result"
    }
   ],
   "source": [
    "y_pred_df"
   ]
  },
  {
   "cell_type": "markdown",
   "metadata": {},
   "source": [
    "Implementing KNN"
   ]
  },
  {
   "cell_type": "code",
   "execution_count": 4,
   "metadata": {},
   "outputs": [],
   "source": [
    "from sklearn.preprocessing import StandardScaler\n",
    "\n",
    "X_train, X_test, y_train, y_test = sklearn.model_selection.train_test_split(train_x, train_y, random_state=42, stratify=train_y)\n",
    "\n",
    "\n",
    "scaler = StandardScaler()\n",
    "scaler.fit(X_train)\n",
    "\n",
    "X_train = scaler.transform(X_train)"
   ]
  },
  {
   "cell_type": "code",
   "execution_count": 7,
   "metadata": {},
   "outputs": [
    {
     "name": "stdout",
     "output_type": "stream",
     "text": [
      "[-0.65994289 -0.69571474  0.47960406  0.17786755  0.25088177 -0.61505088\n",
      " -0.58233211 -0.42662069 -0.29877361 -0.08100574 -1.67752217 -0.23568014\n",
      " -0.47176298  2.31119036 -0.2564071  -0.47007243 -0.51523472  3.8736239\n",
      " -0.45306848 -0.4793506  -0.48103253  2.13694904 -0.41369437 -0.2540363\n",
      " -0.27124845 -0.38511129 -0.36607345 -0.02628354 -0.92153332 -0.23247685\n",
      " -0.29938646  0.56418884  1.73888104  0.1650044  -0.56433857 -0.26946232]\n"
     ]
    }
   ],
   "source": []
  },
  {
   "cell_type": "code",
   "execution_count": 32,
   "metadata": {},
   "outputs": [
    {
     "data": {
      "text/plain": [
       "KNeighborsClassifier(algorithm='auto', leaf_size=30, metric='minkowski',\n",
       "                     metric_params=None, n_jobs=None, n_neighbors=5, p=2,\n",
       "                     weights='uniform')"
      ]
     },
     "execution_count": 32,
     "metadata": {},
     "output_type": "execute_result"
    }
   ],
   "source": [
    "from sklearn.neighbors import KNeighborsClassifier\n",
    "classifier = KNeighborsClassifier(n_neighbors=5)\n",
    "classifier.fit(train_x, train_y)"
   ]
  },
  {
   "cell_type": "code",
   "execution_count": 33,
   "metadata": {},
   "outputs": [],
   "source": [
    "y_pred = classifier.predict(test_x)\n",
    "create_submit(y_pred)"
   ]
  },
  {
   "cell_type": "code",
   "execution_count": 11,
   "metadata": {},
   "outputs": [
    {
     "name": "stdout",
     "output_type": "stream",
     "text": [
      "[[ 481  676    3]\n",
      " [ 747 1331   22]\n",
      " [ 162  319    9]]\n",
      "              precision    recall  f1-score   support\n",
      "\n",
      "           0       0.35      0.41      0.38      1160\n",
      "           1       0.57      0.63      0.60      2100\n",
      "           2       0.26      0.02      0.03       490\n",
      "\n",
      "    accuracy                           0.49      3750\n",
      "   macro avg       0.39      0.36      0.34      3750\n",
      "weighted avg       0.46      0.49      0.46      3750\n",
      "\n"
     ]
    }
   ],
   "source": [
    "from sklearn.metrics import classification_report, confusion_matrix\n",
    "print(confusion_matrix(y_test, y_pred))\n",
    "print(classification_report(y_test, y_pred))"
   ]
  },
  {
   "cell_type": "markdown",
   "metadata": {},
   "source": [
    "Let's Try a Neural Net"
   ]
  },
  {
   "cell_type": "code",
   "execution_count": 6,
   "metadata": {},
   "outputs": [],
   "source": [
    "from sklearn.neural_network import MLPClassifier\n",
    "clf = MLPClassifier(solver='lbfgs', alpha=1e-5, hidden_layer_sizes=(5, 2), random_state=1)\n",
    "clf.fit(train_x, train_y)\n",
    "y_pred = clf.predict(test_x)\n",
    "create_submit(y_pred)\n",
    "#print(confusion_matrix(y_test, y_pred))\n",
    "#print(classification_report(y_test, y_pred))"
   ]
  },
  {
   "cell_type": "code",
   "execution_count": null,
   "metadata": {},
   "outputs": [],
   "source": []
  }
 ],
 "metadata": {
  "kernelspec": {
   "display_name": "Python 3",
   "language": "python",
   "name": "python3"
  },
  "language_info": {
   "codemirror_mode": {
    "name": "ipython",
    "version": 3
   },
   "file_extension": ".py",
   "mimetype": "text/x-python",
   "name": "python",
   "nbconvert_exporter": "python",
   "pygments_lexer": "ipython3",
   "version": "3.7.3"
  }
 },
 "nbformat": 4,
 "nbformat_minor": 4
}
